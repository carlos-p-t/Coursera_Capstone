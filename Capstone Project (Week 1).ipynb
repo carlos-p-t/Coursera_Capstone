{
 "cells": [
  {
   "cell_type": "markdown",
   "metadata": {},
   "source": [
    "# Capstone Project (Week 1)"
   ]
  },
  {
   "cell_type": "markdown",
   "metadata": {},
   "source": [
    "This Notebook contains the problem required for the Capstone Project."
   ]
  },
  {
   "cell_type": "markdown",
   "metadata": {},
   "source": [
    "## Opening a New Restaurant in Bratislava, Slovakia"
   ]
  },
  {
   "cell_type": "markdown",
   "metadata": {},
   "source": [
    "<b> Introduction </b>\n",
    "\n",
    "Any person who has lived abroad surely was in a situation where he/she wanted to get some of his/her local or traditional food. Based on this, someone decided to invest and open a South American Restaurant in the middle of Europe: Bratislava, Slovakia."
   ]
  },
  {
   "cell_type": "markdown",
   "metadata": {},
   "source": [
    "<b> Business Problem </b>\n",
    "\n",
    "Deciding to open a restaurant which sells different style of food compared to the local one seems like a good idea. This is because, sometimes, people want to eat something different than what they usually eat. However, before anything, it is important to make some studies and understand the surroundings so the investors/owners can get to know <b> where </b> it is convenient to open the restaurant. Hence, in this project, I will use the Foursquare location data to solve this particular problem and let the investors/owners know which part of Bratislava is a potential candidate to place the new business."
   ]
  },
  {
   "cell_type": "markdown",
   "metadata": {},
   "source": [
    "<b> About the Data </b>\n",
    "\n",
    "In order to make a similar analysis and use Foursquare, the data corresponding to the Postal Code, Districts and Streets of Bratislava is needed. For this purpose, I decided to use the data provided by Slovenská Pošta, which is the entity in charge of postal services in Slovakia. Refer to the following link for accessing the xlsx document provided by them. (https://www.posta.sk/sluzby/postove-smerovacie-cisla)"
   ]
  },
  {
   "cell_type": "markdown",
   "metadata": {},
   "source": []
  }
 ],
 "metadata": {
  "kernelspec": {
   "display_name": "Python 3",
   "language": "python",
   "name": "python3"
  },
  "language_info": {
   "codemirror_mode": {
    "name": "ipython",
    "version": 3
   },
   "file_extension": ".py",
   "mimetype": "text/x-python",
   "name": "python",
   "nbconvert_exporter": "python",
   "pygments_lexer": "ipython3",
   "version": "3.8.5"
  }
 },
 "nbformat": 4,
 "nbformat_minor": 4
}
